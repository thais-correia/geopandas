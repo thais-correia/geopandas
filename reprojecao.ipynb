{
  "nbformat": 4,
  "nbformat_minor": 0,
  "metadata": {
    "colab": {
      "provenance": [],
      "authorship_tag": "ABX9TyM0kVBaLcMyvCbQR9nEMShE",
      "include_colab_link": true
    },
    "kernelspec": {
      "name": "python3",
      "display_name": "Python 3"
    },
    "language_info": {
      "name": "python"
    }
  },
  "cells": [
    {
      "cell_type": "markdown",
      "metadata": {
        "id": "view-in-github",
        "colab_type": "text"
      },
      "source": [
        "<a href=\"https://colab.research.google.com/github/thais-correia/geopandas/blob/main/reprojecao.ipynb\" target=\"_parent\"><img src=\"https://colab.research.google.com/assets/colab-badge.svg\" alt=\"Open In Colab\"/></a>"
      ]
    },
    {
      "cell_type": "markdown",
      "source": [
        "# **Reprojeção de Arquivos**"
      ],
      "metadata": {
        "id": "PddpA4J7Hxbq"
      }
    },
    {
      "cell_type": "markdown",
      "source": [
        "**Exemplo:** Temos um shapefile com projeção SAD 1969 - Geográfico (EPSG:4618) e queremos reprojetá-lo para SIRGAS 2000 - Geográfico (EPSG: 4674).\n",
        "\n",
        "**Dado:** Trechos inundáveis de Minas Gerais (Brasil), escala 1:1.000.000\n",
        "\n",
        "**Fonte:** Agência Nacional de Águas - ANA, 2014\n",
        "\n",
        "**Disponível em:** https://metadados.snirh.gov.br/geonetwork/srv/por/catalog.search#/metadata/ae9c2d48-63d6-474c-9257-d2d122aa1477"
      ],
      "metadata": {
        "id": "n2w34o_XFwwY"
      }
    },
    {
      "cell_type": "markdown",
      "source": [
        "1. Conectar ao Google Drive"
      ],
      "metadata": {
        "id": "S8Udc1xk-9Dk"
      }
    },
    {
      "cell_type": "code",
      "source": [
        "from google.colab import drive\n",
        "\n",
        "drive.mount(\"/content/drive\", force_remount = True)"
      ],
      "metadata": {
        "colab": {
          "base_uri": "https://localhost:8080/"
        },
        "id": "IFY0gYIk_Br4",
        "outputId": "cb4e0166-5f47-4cf6-c79b-3d7147eb6a50"
      },
      "execution_count": null,
      "outputs": [
        {
          "output_type": "stream",
          "name": "stdout",
          "text": [
            "Mounted at /content/drive\n"
          ]
        }
      ]
    },
    {
      "cell_type": "markdown",
      "source": [
        "2. Instalação de pacotes"
      ],
      "metadata": {
        "id": "1ZeAKc2rCpFL"
      }
    },
    {
      "cell_type": "code",
      "source": [
        "!pip install geopandas -q"
      ],
      "metadata": {
        "id": "vcgEn7u3CoA1"
      },
      "execution_count": null,
      "outputs": []
    },
    {
      "cell_type": "markdown",
      "source": [
        "3. Importar pacotes"
      ],
      "metadata": {
        "id": "S3sKLSp0C4UL"
      }
    },
    {
      "cell_type": "code",
      "source": [
        "import geopandas as gpd"
      ],
      "metadata": {
        "id": "O0068APFC0ja"
      },
      "execution_count": null,
      "outputs": []
    },
    {
      "cell_type": "markdown",
      "source": [
        "4. Indicar o caminho do arquivo"
      ],
      "metadata": {
        "id": "if9DFyc1DcW4"
      }
    },
    {
      "cell_type": "code",
      "source": [
        "shapefile = \"/content/drive/MyDrive/Testes/mg_trechos_inundaveis.shp\""
      ],
      "metadata": {
        "id": "Q4RE7lbiDsmE"
      },
      "execution_count": null,
      "outputs": []
    },
    {
      "cell_type": "markdown",
      "source": [
        "5. Ler o shapefile"
      ],
      "metadata": {
        "id": "E-5h7uasDZiv"
      }
    },
    {
      "cell_type": "code",
      "source": [
        "trechos_inundaveis = gpd.read_file(shapefile)"
      ],
      "metadata": {
        "id": "YF8ZGbMVD4r2"
      },
      "execution_count": null,
      "outputs": []
    },
    {
      "cell_type": "markdown",
      "source": [
        "6. Verificar o sistema de referência de coordenadas"
      ],
      "metadata": {
        "id": "hETpWyqYEirs"
      }
    },
    {
      "cell_type": "code",
      "source": [
        "trechos_inundaveis.crs"
      ],
      "metadata": {
        "colab": {
          "base_uri": "https://localhost:8080/"
        },
        "id": "75Vt8DJWEmfD",
        "outputId": "e43f2a95-f3da-4507-fe9f-806d6441a620"
      },
      "execution_count": null,
      "outputs": [
        {
          "output_type": "execute_result",
          "data": {
            "text/plain": [
              "<Geographic 2D CRS: EPSG:4618>\n",
              "Name: SAD69\n",
              "Axis Info [ellipsoidal]:\n",
              "- Lat[north]: Geodetic latitude (degree)\n",
              "- Lon[east]: Geodetic longitude (degree)\n",
              "Area of Use:\n",
              "- name: Brazil - onshore and offshore. In rest of South America - onshore north of approximately 45°S and Tierra del Fuego.\n",
              "- bounds: (-91.72, -55.96, -25.28, 12.52)\n",
              "Datum: South American Datum 1969\n",
              "- Ellipsoid: GRS 1967 Modified\n",
              "- Prime Meridian: Greenwich"
            ]
          },
          "metadata": {},
          "execution_count": 7
        }
      ]
    },
    {
      "cell_type": "markdown",
      "source": [
        "7. Reprojetar para SIRGAS 2000 - Geográfico"
      ],
      "metadata": {
        "id": "N379GYrLFEae"
      }
    },
    {
      "cell_type": "code",
      "source": [
        "trechos_inund_sirgas = trechos_inundaveis.to_crs(epsg=4674)"
      ],
      "metadata": {
        "id": "cpgzwYeUE1oK"
      },
      "execution_count": null,
      "outputs": []
    },
    {
      "cell_type": "markdown",
      "source": [
        "8. Validar a projeção"
      ],
      "metadata": {
        "id": "CTGgXWFCFh5w"
      }
    },
    {
      "cell_type": "code",
      "source": [
        "trechos_inund_sirgas.crs"
      ],
      "metadata": {
        "colab": {
          "base_uri": "https://localhost:8080/"
        },
        "id": "AoFDLXYCFrKD",
        "outputId": "af37d663-3640-47c3-aea6-e7b87963bb61"
      },
      "execution_count": null,
      "outputs": [
        {
          "output_type": "execute_result",
          "data": {
            "text/plain": [
              "<Geographic 2D CRS: EPSG:4674>\n",
              "Name: SIRGAS 2000\n",
              "Axis Info [ellipsoidal]:\n",
              "- Lat[north]: Geodetic latitude (degree)\n",
              "- Lon[east]: Geodetic longitude (degree)\n",
              "Area of Use:\n",
              "- name: Latin America - Central America and South America - onshore and offshore. Brazil - onshore and offshore.\n",
              "- bounds: (-122.19, -59.87, -25.28, 32.72)\n",
              "Datum: Sistema de Referencia Geocentrico para las AmericaS 2000\n",
              "- Ellipsoid: GRS 1980\n",
              "- Prime Meridian: Greenwich"
            ]
          },
          "metadata": {},
          "execution_count": 9
        }
      ]
    },
    {
      "cell_type": "markdown",
      "source": [
        "**Obrigada!** 🌎"
      ],
      "metadata": {
        "id": "-otHzzR7xfNd"
      }
    }
  ]
}